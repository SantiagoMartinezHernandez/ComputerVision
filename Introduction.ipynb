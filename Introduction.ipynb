{
  "nbformat": 4,
  "nbformat_minor": 0,
  "metadata": {
    "colab": {
      "provenance": [],
      "authorship_tag": "ABX9TyMaqJmgZ3+qQzh4qV8taiBd",
      "include_colab_link": true
    },
    "kernelspec": {
      "name": "python3",
      "display_name": "Python 3"
    },
    "language_info": {
      "name": "python"
    }
  },
  "cells": [
    {
      "cell_type": "markdown",
      "metadata": {
        "id": "view-in-github",
        "colab_type": "text"
      },
      "source": [
        "<a href=\"https://colab.research.google.com/github/SantiagoMartinezHernandez/ComputerVision/blob/main/Introduction.ipynb\" target=\"_parent\"><img src=\"https://colab.research.google.com/assets/colab-badge.svg\" alt=\"Open In Colab\"/></a>"
      ]
    },
    {
      "cell_type": "markdown",
      "source": [
        "# Computer Vision\n",
        "\n",
        "A comprehensive view by [Andrés Santiago Martínez Hernández](https://santiagomartinezhernandez.github.io/)\n",
        "\n",
        "### **Introduction**\n",
        "\n",
        "Welcome to the CV course! My name is Santiago, I am a senior undergraduate of Biomedical and Software Engineering with a minor in neuroscience, my speciallity line in Biomed is medial image analysis and computer vision. \n",
        "\n",
        "I have built this series of lectures to test my understanding of 2 years of technical courses and because I always wanted to find a course that could better help me understand the topics while also practicing and not breaking my computer.\n",
        "\n",
        "This repository is a collection of notebooks designed to explore the basis of CV to properly understand the state of the art on the field. The course is based on [Pablo Arbelaéz Escalante's](https://academia.uniandes.edu.co/AcademyCv/pa.arbelaez) courses: Preprocessing and image analysis for biomedical engineering and principles of visual recognition. Along with Advanced Machine learning: Tiny & Simple, and many other lectures I have been given throughout my careers. \n",
        "\n",
        "Of course, the contents in this course are nothing but a mere collection of sources; therefore it is free and self paced. Feel free to contact me if you need further information. Hope you enjoy!"
      ],
      "metadata": {
        "id": "lpFqsWu6XPt-"
      }
    },
    {
      "cell_type": "markdown",
      "source": [
        "# The courses topics and links\n",
        "\n",
        "- Introduction to CV (this notebook)\n",
        "- Clustering and representation ()\n",
        "- Classification and Caltech 101 ()\n",
        "- Deep learning\n",
        "  - Convolutional neural networks ()\n",
        "  - Transformers ()\n",
        "  - Visual transformers ()\n",
        "- Segmentation\n",
        "  - Object proposals RCNN ()\n",
        "  - X-RCNN + DeepLab ()\n",
        "  - X-former (Swin, mask2Former) ()\n",
        "  - Instance segmentation ()\n",
        "  - Panoptic segmentation\n",
        "    - Pre-transformers ()\n",
        "    - Post-transformers ()\n",
        "- Foundations of generation ()\n",
        "  - Auto-encoders (VAEs) ()\n",
        "  - Generative adversarial networks (GAN) ()\n",
        "  - Difussion models ()\n",
        "- Image formation ()\n",
        "- Camera calibration ()\n",
        "- Alignment ()\n",
        "- Video + opticalFlow ()\n",
        "- Multiview stereo ()\n",
        "- Structure from motion ()\n",
        "- NeRF ()"
      ],
      "metadata": {
        "id": "XBAaK-9tbVL4"
      }
    },
    {
      "cell_type": "code",
      "source": [],
      "metadata": {
        "id": "oHgyFr5UZFVK"
      },
      "execution_count": null,
      "outputs": []
    }
  ]
}